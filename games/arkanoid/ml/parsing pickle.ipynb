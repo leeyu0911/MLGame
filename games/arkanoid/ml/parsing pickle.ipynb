{
 "cells": [
  {
   "cell_type": "code",
   "execution_count": 295,
   "metadata": {
    "collapsed": true
   },
   "outputs": [
    {
     "name": "stdout",
     "output_type": "stream",
     "text": [
      "dict_keys(['scene_info', 'command'])\n",
      "1898 1898\n"
     ]
    }
   ],
   "source": [
    "import pickle\n",
    "import matplotlib.pyplot as plt\n",
    "import numpy as np\n",
    "\n",
    "file = '/Users/leeyu/Documents/GitHub/MLGame/games/arkanoid/log/ml_NORMAL_3_2020-07-20_23-03-47.pickle'\n",
    "with open(file, 'rb') as f:\n",
    "    data = pickle.load(f)\n",
    "\n",
    "print(data.keys())\n",
    "print(len(data['scene_info']), len(data['command']))"
   ]
  },
  {
   "cell_type": "code",
   "execution_count": 296,
   "outputs": [
    {
     "data": {
      "text/plain": "{'frame': 0,\n 'status': 'GAME_ALIVE',\n 'ball': (93, 395),\n 'platform': (75, 400),\n 'bricks': [(50, 60),\n  (75, 60),\n  (100, 60),\n  (125, 60),\n  (60, 70),\n  (85, 70),\n  (110, 70),\n  (50, 80),\n  (75, 80),\n  (100, 80),\n  (125, 80)],\n 'hard_bricks': [(35, 50),\n  (60, 50),\n  (85, 50),\n  (110, 50),\n  (135, 50),\n  (25, 60),\n  (150, 60),\n  (35, 70),\n  (135, 70),\n  (25, 80),\n  (150, 80),\n  (35, 90),\n  (60, 90),\n  (85, 90),\n  (110, 90),\n  (135, 90)]}"
     },
     "execution_count": 296,
     "metadata": {},
     "output_type": "execute_result"
    }
   ],
   "source": [
    "data['scene_info'][0]"
   ],
   "metadata": {
    "collapsed": false,
    "pycharm": {
     "name": "#%%\n"
    }
   }
  },
  {
   "cell_type": "code",
   "execution_count": 297,
   "outputs": [
    {
     "data": {
      "text/plain": "'SERVE_TO_RIGHT'"
     },
     "execution_count": 297,
     "metadata": {},
     "output_type": "execute_result"
    }
   ],
   "source": [
    "data['command'][0]"
   ],
   "metadata": {
    "collapsed": false,
    "pycharm": {
     "name": "#%%\n"
    }
   }
  },
  {
   "cell_type": "code",
   "execution_count": 298,
   "outputs": [],
   "source": [
    "# 讓資料變大 7774208\n",
    "# for i in range(12):\n",
    "#     data['scene_info'] += data['scene_info']\n",
    "#     data['command'] += data['command']"
   ],
   "metadata": {
    "collapsed": false,
    "pycharm": {
     "name": "#%%\n"
    }
   }
  },
  {
   "cell_type": "code",
   "execution_count": 299,
   "outputs": [
    {
     "name": "stdout",
     "output_type": "stream",
     "text": [
      "1898 1898\n"
     ]
    }
   ],
   "source": [
    "print(len(data['scene_info']), len(data['command']))"
   ],
   "metadata": {
    "collapsed": false,
    "pycharm": {
     "name": "#%%\n"
    }
   }
  },
  {
   "cell_type": "code",
   "execution_count": 300,
   "outputs": [
    {
     "name": "stdout",
     "output_type": "stream",
     "text": [
      "0.006170034408569336\n"
     ]
    }
   ],
   "source": [
    "# 提取特徵\n",
    "# 計算一般迴圈及list方法所需時間\n",
    "from time import time\n",
    "s = time()\n",
    "\n",
    "Ball_x = []\n",
    "Ball_y = []\n",
    "Ball_speed_x = []\n",
    "Ball_speed_y = []\n",
    "Direction = []\n",
    "Platform = []\n",
    "Command = []\n",
    "\n",
    "for i, sceneInfo in enumerate(data[\"scene_info\"][1:-2]):\n",
    "    Ball_x.append(sceneInfo['ball'][0])\n",
    "    Ball_y.append(sceneInfo['ball'][1])\n",
    "    Platform.append(sceneInfo['platform'][0])\n",
    "    Ball_speed_x.append(data['scene_info'][i+2][\"ball\"][0]-data['scene_info'][i+1][\"ball\"][0])\n",
    "    Ball_speed_y.append(data['scene_info'][i+2][\"ball\"][1]-data['scene_info'][i+1][\"ball\"][1])\n",
    "    if Ball_speed_x[-1] > 0:\n",
    "        if Ball_speed_y[-1] > 0:\n",
    "            Direction.append(0)\n",
    "        else:\n",
    "            Direction.append(1)\n",
    "    else:\n",
    "        if Ball_speed_y[-1] > 0:\n",
    "            Direction.append(2)\n",
    "        else:\n",
    "            Direction.append(3)\n",
    "for command in data[\"command\"][1:-2]:\n",
    "    if command == \"NONE\":\n",
    "        Command.append(0)\n",
    "    elif command == \"MOVE_LEFT\":\n",
    "        Command.append(-1)\n",
    "    elif command == \"MOVE_RIGHT\":\n",
    "        Command.append(1)\n",
    "\n",
    "e = time()\n",
    "print(e - s)"
   ],
   "metadata": {
    "collapsed": false,
    "pycharm": {
     "name": "#%%\n"
    }
   }
  },
  {
   "cell_type": "code",
   "execution_count": 301,
   "outputs": [
    {
     "name": "stdout",
     "output_type": "stream",
     "text": [
      "0.006159067153930664\n"
     ]
    }
   ],
   "source": [
    "# 提取特徵\n",
    "# 計算使用numpy方法所需時間\n",
    "s = time()\n",
    "\n",
    "k = range(1, len(data['scene_info'])-1)\n",
    "\n",
    "ball_x = np.array([data['scene_info'][i]['ball'][0] for i in k])\n",
    "ball_y = np.array([data['scene_info'][i]['ball'][1] for i in k])\n",
    "ball_speed_x = np.array([data['scene_info'][i+1]['ball'][0] - data['scene_info'][i]['ball'][0] for i in k])\n",
    "ball_speed_y = np.array([data['scene_info'][i+1]['ball'][1] - data['scene_info'][i]['ball'][1] for i in k])\n",
    "direction = np.where(np.vstack((ball_speed_x, ball_speed_y)) > 0, [[1],[0]], [[2],[3]]).sum(axis=0)  # x y: ++1, +-4, -+2, --3\n",
    "platform = np.array([data['scene_info'][i]['platform'][0] for i in k])\n",
    "target = np.where(np.array(data['command']) == 'NONE', 0,\n",
    "                  np.where(np.array(data['command']) == 'MOVE_LEFT', -1, 1))[1:-1]  # [0] SERVE_TO_RIGHT, [1897] None\n",
    "\n",
    "e = time()\n",
    "print(e - s)"
   ],
   "metadata": {
    "collapsed": false,
    "pycharm": {
     "name": "#%%\n"
    }
   }
  },
  {
   "cell_type": "code",
   "execution_count": 302,
   "outputs": [
    {
     "data": {
      "text/plain": "(array([937.,   0.,   2.,   3.,   2.,   2.,   2.,   3.,   0., 945.]),\n array([-7. , -5.6, -4.2, -2.8, -1.4,  0. ,  1.4,  2.8,  4.2,  5.6,  7. ]),\n <a list of 10 Patch objects>)"
     },
     "execution_count": 302,
     "metadata": {},
     "output_type": "execute_result"
    },
    {
     "data": {
      "text/plain": "<Figure size 432x288 with 1 Axes>",
      "image/png": "[encoded data removed]"
     },
     "metadata": {
      "needs_background": "light"
     },
     "output_type": "display_data"
    }
   ],
   "source": [
    "# 統計速度方向的數量\n",
    "from collections import defaultdict\n",
    "dd = defaultdict(int)\n",
    "for i in ball_speed_x:\n",
    "    dd[i] += 1\n",
    "plt.hist(ball_speed_x)"
   ],
   "metadata": {
    "collapsed": false,
    "pycharm": {
     "name": "#%%\n"
    }
   }
  },
  {
   "cell_type": "code",
   "execution_count": 303,
   "outputs": [
    {
     "name": "stdout",
     "output_type": "stream",
     "text": [
      "[(-7, 908), (-6, 29), (-4, 1), (-3, 1), (-2, 3), (-1, 2), (1, 2), (2, 2), (3, 1), (4, 2), (6, 30), (7, 915)]\n"
     ]
    }
   ],
   "source": [
    "list(dd.items()).sort()\n",
    "print(sorted(list(dd.items())))"
   ],
   "metadata": {
    "collapsed": false,
    "pycharm": {
     "name": "#%%\n"
    }
   }
  },
  {
   "cell_type": "code",
   "execution_count": 304,
   "outputs": [
    {
     "name": "stdout",
     "output_type": "stream",
     "text": [
      "16.1796875 k 14.90625 k\n",
      "16.1796875 k 14.90625 k\n",
      "16.1796875 k 14.90625 k\n",
      "16.1796875 k 14.90625 k\n",
      "16.1796875 k 14.90625 k\n",
      "16.1796875 k 14.90625 k\n",
      "16.1796875 k 0.09375 k\n"
     ]
    }
   ],
   "source": [
    "# 計算變數大小\n",
    "import sys\n",
    "a = [Ball_x, Ball_y, Ball_speed_x, Ball_speed_y, Direction, Platform, Command]\n",
    "b = [ball_x, ball_y, ball_speed_x, ball_speed_y, direction, platform, target]\n",
    "\n",
    "for i in range(len(a)):\n",
    "    print(sys.getsizeof(a[i]) / 1024, 'k', sys.getsizeof(b[i]) / 1024, 'k')"
   ],
   "metadata": {
    "collapsed": false,
    "pycharm": {
     "name": "#%%\n"
    }
   }
  },
  {
   "cell_type": "code",
   "execution_count": 305,
   "outputs": [],
   "source": [
    "# 比較資料一致性\n",
    "for i in range(len(a)):\n",
    "    for i1, i2 in zip(a[i], b[i]):\n",
    "        if i != 4:\n",
    "            if i1 != i2:\n",
    "                print(i)\n",
    "                print(i1, i2)\n",
    "        else:\n",
    "            if i1 == 0 and i2 != 1:\n",
    "                print(i1, i2)\n",
    "            if i1 == 1 and i2 != 4:\n",
    "                print(i1, i2)\n",
    "            if i1 == 2 and i2 != 2:\n",
    "                print(i1, i2)\n",
    "            if i1 == 3 and i2 != 5:\n",
    "                print(i1, i2)"
   ],
   "metadata": {
    "collapsed": false,
    "pycharm": {
     "name": "#%%\n"
    }
   }
  },
  {
   "cell_type": "code",
   "execution_count": 306,
   "outputs": [],
   "source": [
    "#train data\n",
    "X = np.hstack((ball_x.reshape(-1, 1),\n",
    "               ball_y.reshape(-1, 1),\n",
    "               ball_speed_x.reshape(-1, 1),\n",
    "               ball_speed_y.reshape(-1, 1),\n",
    "               direction.reshape(-1, 1),\n",
    "               platform.reshape(-1, 1)))\n",
    "y = target"
   ],
   "metadata": {
    "collapsed": false,
    "pycharm": {
     "name": "#%%\n"
    }
   }
  },
  {
   "cell_type": "code",
   "execution_count": 307,
   "outputs": [
    {
     "name": "stdout",
     "output_type": "stream",
     "text": [
      "KNeighborsClassifier(algorithm='auto', leaf_size=30, metric='minkowski',\n",
      "                     metric_params=None, n_jobs=None, n_neighbors=3, p=2,\n",
      "                     weights='uniform')\n",
      "0.979957805907173\n"
     ]
    }
   ],
   "source": [
    "from sklearn.neighbors import KNeighborsClassifier\n",
    "\n",
    "model = KNeighborsClassifier(n_neighbors=3)\n",
    "print(model.fit(X, y))\n",
    "print(model.score(X, y))"
   ],
   "metadata": {
    "collapsed": false,
    "pycharm": {
     "name": "#%%\n"
    }
   }
  },
  {
   "cell_type": "code",
   "execution_count": 308,
   "outputs": [],
   "source": [
    "with open('my_model.pickle', 'wb') as f:\n",
    "    pickle.dump(model, f)"
   ],
   "metadata": {
    "collapsed": false,
    "pycharm": {
     "name": "#%%\n"
    }
   }
  }
 ],
 "metadata": {
  "kernelspec": {
   "display_name": "Python 3",
   "language": "python",
   "name": "python3"
  },
  "language_info": {
   "codemirror_mode": {
    "name": "ipython",
    "version": 2
   },
   "file_extension": ".py",
   "mimetype": "text/x-python",
   "name": "python",
   "nbconvert_exporter": "python",
   "pygments_lexer": "ipython2",
   "version": "2.7.6"
  }
 },
 "nbformat": 4,
 "nbformat_minor": 0
}